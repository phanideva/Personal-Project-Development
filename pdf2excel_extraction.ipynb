{
 "cells": [
  {
   "cell_type": "code",
   "execution_count": 2,
   "metadata": {},
   "outputs": [
    {
     "name": "stdout",
     "output_type": "stream",
     "text": [
      "Data extracted and saved to CSV and Excel.\n"
     ]
    }
   ],
   "source": [
    "import fitz  # PyMuPDF\n",
    "import pandas as pd\n",
    "import re\n",
    "\n",
    "# File path\n",
    "pdf_path = 'D:\\Python Practice files\\PAYMENT_RECEIPT_1593795394.pdf'\n",
    "#output_csv_path = 'D:\\Python Practice files\\PAYMENT_RECEIPT_1593795394.csv'\n",
    "#output_excel_path = 'D:\\Python Practice files\\PAYMENT_RECEIPT_1593795394.xlsx'\n",
    "\n",
    "# Read PDF content\n",
    "doc = fitz.open(pdf_path)\n",
    "text = \"\"\n",
    "for page in doc:\n",
    "    text += page.get_text()\n",
    "\n",
    "# Define patterns to search for the fields\n",
    "patterns = {\n",
    "    'AUTHORIZATION CODE': r'AUTHORIZATION CODE\\s*(\\d+)',\n",
    "    'PAYMENT TYPE': r'PAYMENT TYPE\\s*([\\w\\s]+)',\n",
    "    'PAYMENT NUMBER': r'PAYMENT NUMBER\\s*(\\d+)',\n",
    "    'PAYMENT DATE': r'PAYMENT DATE\\s*([\\w\\s\\d:]+)',\n",
    "    'Payment Amount': r'Payment Amount\\s*\\$\\s*([\\d,]+\\.\\d{2})'\n",
    "}\n",
    "\n",
    "# Extract fields\n",
    "extracted_data = {}\n",
    "for field, pattern in patterns.items():\n",
    "    match = re.search(pattern, text)\n",
    "    extracted_data[field] = match.group(1) if match else None\n",
    "\n",
    "from datetime import datetime\n",
    "\n",
    "# Assuming the rest of the code remains the same up to the extraction part\n",
    "\n",
    "# Parse PAYMENT DATE to datetime object\n",
    "payment_date_str = extracted_data['PAYMENT DATE']\n",
    "payment_date_obj = datetime.strptime(payment_date_str + ', 2024', '%b %d, %Y')  # Adjust the format based on how the date appears in your PDF\n",
    "\n",
    "# Format PAYMENT DATE as MM/DD/YYYY\n",
    "formatted_payment_date = payment_date_obj.strftime('%m/%d/%Y')\n",
    "extracted_data['PAYMENT DATE'] = formatted_payment_date\n",
    "\n",
    "# Update output file paths to include the formatted payment date\n",
    "date_for_filename = payment_date_obj.strftime('%m-%d-%Y')  # Using dashes as filename part\n",
    "base_path = 'D:\\\\Python Practice files\\\\'  # Adjust base path as necessary\n",
    "output_csv_path = f'{base_path}payment_receipt_{date_for_filename}.csv'\n",
    "output_excel_path = f'{base_path}payment_receipt_{date_for_filename}.xlsx'\n",
    "\n",
    "# Convert to DataFrame\n",
    "df = pd.DataFrame([extracted_data])\n",
    "\n",
    "# Save to CSV\n",
    "df.to_csv(output_csv_path, index=False)\n",
    "\n",
    "# Save to Excel\n",
    "df.to_excel(output_excel_path, index=False, engine='openpyxl')\n",
    "\n",
    "print(\"Data extracted and saved to CSV and Excel.\")\n"
   ]
  },
  {
   "cell_type": "code",
   "execution_count": 3,
   "metadata": {},
   "outputs": [
    {
     "name": "stdout",
     "output_type": "stream",
     "text": [
      "Image saved as D:\\Python Practice files\\arrivelogo.png\n"
     ]
    }
   ],
   "source": [
    "# Extract and save the first image found in the PDF as 'arrivelogo.png'\n",
    "for page in doc:\n",
    "    image_list = page.get_images(full=True)\n",
    "    if image_list:\n",
    "        # Get the first image\n",
    "        xref = image_list[0][0]\n",
    "        base_image = doc.extract_image(xref)\n",
    "        image_bytes = base_image[\"image\"]\n",
    "\n",
    "        # Define the output image path\n",
    "        image_output_path = f'{base_path}arrivelogo.png'\n",
    "        \n",
    "        # Save the image\n",
    "        with open(image_output_path, 'wb') as img_file:\n",
    "            img_file.write(image_bytes)\n",
    "        print(f\"Image saved as {image_output_path}\")\n",
    "        break  # Stop after the first image is found and saved\n",
    "\n",
    "doc.close()"
   ]
  },
  {
   "cell_type": "markdown",
   "metadata": {},
   "source": [
    "Resized Image."
   ]
  },
  {
   "cell_type": "code",
   "execution_count": 4,
   "metadata": {},
   "outputs": [
    {
     "name": "stdout",
     "output_type": "stream",
     "text": [
      "Image saved as D:\\Python Practice files\\arrivelogo.png\n"
     ]
    },
    {
     "name": "stderr",
     "output_type": "stream",
     "text": [
      "C:\\Users\\phani\\AppData\\Local\\Temp\\ipykernel_18032\\3051828115.py:15: DeprecationWarning: ANTIALIAS is deprecated and will be removed in Pillow 10 (2023-07-01). Use LANCZOS or Resampling.LANCZOS instead.\n",
      "  resized_image = image.resize((output_size[0], new_height), Image.ANTIALIAS)\n"
     ]
    }
   ],
   "source": [
    "from PIL import Image\n",
    "import io\n",
    "\n",
    "# Assuming 'image_bytes' contains the bytes of the image extracted from the PDF\n",
    "image = Image.open(io.BytesIO(image_bytes))\n",
    "\n",
    "# Define the desired output size (e.g., width = 800 pixels)\n",
    "output_size = (800,)\n",
    "\n",
    "# Calculate the new height maintaining the aspect ratio\n",
    "aspect_ratio = image.height / image.width\n",
    "new_height = int(output_size[0] * aspect_ratio)\n",
    "\n",
    "# Resize the image\n",
    "resized_image = image.resize((output_size[0], new_height), Image.ANTIALIAS)\n",
    "\n",
    "# Define the output image path\n",
    "image_output_path = f'{base_path}arrivelogo.png'\n",
    "\n",
    "# Save the resized image\n",
    "resized_image.save(image_output_path, format='PNG')\n",
    "\n",
    "print(f\"Image saved as {image_output_path}\")\n"
   ]
  }
 ],
 "metadata": {
  "kernelspec": {
   "display_name": "base",
   "language": "python",
   "name": "python3"
  },
  "language_info": {
   "codemirror_mode": {
    "name": "ipython",
    "version": 3
   },
   "file_extension": ".py",
   "mimetype": "text/x-python",
   "name": "python",
   "nbconvert_exporter": "python",
   "pygments_lexer": "ipython3",
   "version": "3.11.5"
  }
 },
 "nbformat": 4,
 "nbformat_minor": 2
}
