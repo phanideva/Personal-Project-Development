{
 "cells": [
  {
   "cell_type": "code",
   "execution_count": 4,
   "metadata": {},
   "outputs": [
    {
     "name": "stdout",
     "output_type": "stream",
     "text": [
      "Data extracted and saved to CSV and Excel.\n"
     ]
    }
   ],
   "source": [
    "import fitz  # PyMuPDF\n",
    "import pandas as pd\n",
    "import re\n",
    "\n",
    "# File path\n",
    "pdf_path = 'D:\\Python Practice files\\PAYMENT_RECEIPT_1593795394.pdf'\n",
    "#output_csv_path = 'D:\\Python Practice files\\PAYMENT_RECEIPT_1593795394.csv'\n",
    "#output_excel_path = 'D:\\Python Practice files\\PAYMENT_RECEIPT_1593795394.xlsx'\n",
    "\n",
    "# Read PDF content\n",
    "doc = fitz.open(pdf_path)\n",
    "text = \"\"\n",
    "for page in doc:\n",
    "    text += page.get_text()\n",
    "\n",
    "# Define patterns to search for the fields\n",
    "patterns = {\n",
    "    'AUTHORIZATION CODE': r'AUTHORIZATION CODE\\s*(\\d+)',\n",
    "    'PAYMENT TYPE': r'PAYMENT TYPE\\s*([\\w\\s]+)',\n",
    "    'PAYMENT NUMBER': r'PAYMENT NUMBER\\s*(\\d+)',\n",
    "    'PAYMENT DATE': r'PAYMENT DATE\\s*([\\w\\s\\d:]+)',\n",
    "    'Payment Amount': r'Payment Amount\\s*\\$\\s*([\\d,]+\\.\\d{2})'\n",
    "}\n",
    "\n",
    "# Extract fields\n",
    "extracted_data = {}\n",
    "for field, pattern in patterns.items():\n",
    "    match = re.search(pattern, text)\n",
    "    extracted_data[field] = match.group(1) if match else None\n",
    "\n",
    "from datetime import datetime\n",
    "\n",
    "# Assuming the rest of the code remains the same up to the extraction part\n",
    "\n",
    "# Parse PAYMENT DATE to datetime object\n",
    "payment_date_str = extracted_data['PAYMENT DATE']\n",
    "payment_date_obj = datetime.strptime(payment_date_str + ', 2024', '%b %d, %Y')  # Adjust the format based on how the date appears in your PDF\n",
    "\n",
    "# Format PAYMENT DATE as MM/DD/YYYY\n",
    "formatted_payment_date = payment_date_obj.strftime('%m/%d/%Y')\n",
    "extracted_data['PAYMENT DATE'] = formatted_payment_date\n",
    "\n",
    "# Update output file paths to include the formatted payment date\n",
    "date_for_filename = payment_date_obj.strftime('%m-%d-%Y')  # Using dashes as filename part\n",
    "base_path = 'D:\\\\Python Practice files\\\\'  # Adjust base path as necessary\n",
    "output_csv_path = f'{base_path}payment_receipt_{date_for_filename}.csv'\n",
    "output_excel_path = f'{base_path}payment_receipt_{date_for_filename}.xlsx'\n",
    "\n",
    "# Convert to DataFrame\n",
    "df = pd.DataFrame([extracted_data])\n",
    "\n",
    "# Save to CSV\n",
    "df.to_csv(output_csv_path, index=False)\n",
    "\n",
    "# Save to Excel\n",
    "df.to_excel(output_excel_path, index=False, engine='openpyxl')\n",
    "\n",
    "print(\"Data extracted and saved to CSV and Excel.\")\n"
   ]
  }
 ],
 "metadata": {
  "kernelspec": {
   "display_name": "base",
   "language": "python",
   "name": "python3"
  },
  "language_info": {
   "codemirror_mode": {
    "name": "ipython",
    "version": 3
   },
   "file_extension": ".py",
   "mimetype": "text/x-python",
   "name": "python",
   "nbconvert_exporter": "python",
   "pygments_lexer": "ipython3",
   "version": "3.11.5"
  }
 },
 "nbformat": 4,
 "nbformat_minor": 2
}
