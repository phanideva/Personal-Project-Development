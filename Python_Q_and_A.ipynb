{
 "cells": [
  {
   "cell_type": "code",
   "execution_count": 5,
   "metadata": {},
   "outputs": [
    {
     "name": "stdout",
     "output_type": "stream",
     "text": [
      "Fibonacci sequence up to 100 terms: [0, 1, 1, 2, 3, 5, 8, 13, 21, 34, 55, 89, 144, 233, 377, 610, 987, 1597, 2584, 4181, 6765, 10946, 17711, 28657, 46368, 75025, 121393, 196418, 317811, 514229, 832040, 1346269, 2178309, 3524578, 5702887, 9227465, 14930352, 24157817, 39088169, 63245986, 102334155, 165580141, 267914296, 433494437, 701408733, 1134903170, 1836311903, 2971215073, 4807526976, 7778742049, 12586269025, 20365011074, 32951280099, 53316291173, 86267571272, 139583862445, 225851433717, 365435296162, 591286729879, 956722026041, 1548008755920, 2504730781961, 4052739537881, 6557470319842, 10610209857723, 17167680177565, 27777890035288, 44945570212853, 72723460248141, 117669030460994, 190392490709135, 308061521170129, 498454011879264, 806515533049393, 1304969544928657, 2111485077978050, 3416454622906707, 5527939700884757, 8944394323791464, 14472334024676221, 23416728348467685, 37889062373143906, 61305790721611591, 99194853094755497, 160500643816367088, 259695496911122585, 420196140727489673, 679891637638612258, 1100087778366101931, 1779979416004714189, 2880067194370816120, 4660046610375530309, 7540113804746346429, 12200160415121876738, 19740274219868223167, 31940434634990099905, 51680708854858323072, 83621143489848422977, 135301852344706746049, 218922995834555169026]\n"
     ]
    }
   ],
   "source": [
    "def fibonacci(n):\n",
    "    \"\"\"\n",
    "    Generate a Fibonacci sequence up to the nth term.\n",
    "\n",
    "    Parameters:\n",
    "    n (int): The number of terms in the Fibonacci sequence to generate.\n",
    "\n",
    "    Returns:\n",
    "    list: A list containing the Fibonacci sequence up to the nth term.\n",
    "\n",
    "    Example:\n",
    "    >>> fibonacci(10)\n",
    "    [0, 1, 1, 2, 3, 5, 8, 13, 21, 34]\n",
    "    \"\"\"\n",
    "    sequence = [0, 1]  # Initialize the sequence with the first two terms\n",
    "    while len(sequence) < n:  # Continue until the sequence reaches the desired length\n",
    "        sequence.append(sequence[-1] + sequence[-2])  # Add the next term by summing the last two terms\n",
    "    return sequence[:n]  # Return the sequence up to the nth term\n",
    "\n",
    "# Test the function\n",
    "n = 100\n",
    "print(f\"Fibonacci sequence up to {n} terms: {fibonacci(n)}\")"
   ]
  },
  {
   "cell_type": "code",
   "execution_count": 1,
   "metadata": {},
   "outputs": [
    {
     "name": "stdout",
     "output_type": "stream",
     "text": [
      "The factorial of 5 is 120\n"
     ]
    }
   ],
   "source": [
    "def factorial(n):\n",
    "    if n == 0:\n",
    "        return 1\n",
    "    else:\n",
    "        return n * factorial(n-1)\n",
    "\n",
    "# Test the function\n",
    "number = 5\n",
    "print(f\"The factorial of {number} is {factorial(number)}\")"
   ]
  },
  {
   "cell_type": "code",
   "execution_count": 4,
   "metadata": {},
   "outputs": [
    {
     "name": "stdout",
     "output_type": "stream",
     "text": [
      "29 is a prime number: True\n"
     ]
    }
   ],
   "source": [
    "def is_prime(n):\n",
    "    if n <= 1:\n",
    "        return False\n",
    "    for i in range(2, int(n**0.5) + 1):\n",
    "        if n % i == 0:\n",
    "            return False\n",
    "    return True\n",
    "\n",
    "# Test the function\n",
    "number = 29\n",
    "print(f\"{number} is a prime number: {is_prime(number)}\")"
   ]
  },
  {
   "cell_type": "code",
   "execution_count": 1,
   "metadata": {},
   "outputs": [
    {
     "name": "stdout",
     "output_type": "stream",
     "text": [
      "The GCD of 54 and 24 is 6\n"
     ]
    }
   ],
   "source": [
    "def gcd(a, b):\n",
    "    while b:\n",
    "        a, b = b, a % b\n",
    "    return a\n",
    "\n",
    "# Test the function\n",
    "a, b = 54, 24\n",
    "print(f\"The GCD of {a} and {b} is {gcd(a, b)}\")"
   ]
  },
  {
   "cell_type": "code",
   "execution_count": 2,
   "metadata": {},
   "outputs": [
    {
     "name": "stdout",
     "output_type": "stream",
     "text": [
      "The sum of digits of 1234 is 10\n"
     ]
    }
   ],
   "source": [
    "def sum_of_digits(n):\n",
    "    return sum(int(digit) for digit in str(n))\n",
    "\n",
    "# Test the function\n",
    "number = 1234\n",
    "print(f\"The sum of digits of {number} is {sum_of_digits(number)}\")"
   ]
  },
  {
   "cell_type": "code",
   "execution_count": 4,
   "metadata": {},
   "outputs": [
    {
     "name": "stdout",
     "output_type": "stream",
     "text": [
      "'apple' is a palindrome: False\n"
     ]
    }
   ],
   "source": [
    "def is_palindrome(s):\n",
    "    return s == s[::-1]\n",
    "\n",
    "# Test the function\n",
    "string = \"racecar\"\n",
    "print(f\"'{string}' is a palindrome: {is_palindrome(string)}\")"
   ]
  },
  {
   "cell_type": "code",
   "execution_count": 5,
   "metadata": {},
   "outputs": [
    {
     "name": "stdout",
     "output_type": "stream",
     "text": [
      "153 is an Armstrong number: True\n"
     ]
    }
   ],
   "source": [
    "def is_armstrong(n):\n",
    "    num_str = str(n)\n",
    "    num_len = len(num_str)\n",
    "    return n == sum(int(digit) ** num_len for digit in num_str)\n",
    "\n",
    "# Test the function\n",
    "number = 153\n",
    "print(f\"{number} is an Armstrong number: {is_armstrong(number)}\")"
   ]
  },
  {
   "cell_type": "code",
   "execution_count": 6,
   "metadata": {},
   "outputs": [
    {
     "name": "stdout",
     "output_type": "stream",
     "text": [
      "Prime numbers up to 30: [2, 3, 5, 7, 11, 13, 17, 19, 23, 29]\n"
     ]
    }
   ],
   "source": [
    "def sieve_of_eratosthenes(n):\n",
    "    primes = [True] * (n+1)\n",
    "    p = 2\n",
    "    while p**2 <= n:\n",
    "        if primes[p]:\n",
    "            for i in range(p**2, n+1, p):\n",
    "                primes[i] = False\n",
    "        p += 1\n",
    "    return [p for p in range(2, n+1) if primes[p]]\n",
    "\n",
    "# Test the function\n",
    "n = 30\n",
    "print(f\"Prime numbers up to {n}: {sieve_of_eratosthenes(n)}\")"
   ]
  },
  {
   "cell_type": "code",
   "execution_count": 7,
   "metadata": {},
   "outputs": [
    {
     "name": "stdout",
     "output_type": "stream",
     "text": [
      "Element 7 is at index 6\n"
     ]
    }
   ],
   "source": [
    "def binary_search(arr, x):\n",
    "    low, high = 0, len(arr) - 1\n",
    "    while low <= high:\n",
    "        mid = (low + high) // 2\n",
    "        if arr[mid] == x:\n",
    "            return mid\n",
    "        elif arr[mid] < x:\n",
    "            low = mid + 1\n",
    "        else:\n",
    "            high = mid - 1\n",
    "    return -1\n",
    "\n",
    "# Test the function\n",
    "arr = [1, 2, 3, 4, 5, 6, 7, 8, 9, 10]\n",
    "x = 7\n",
    "print(f\"Element {x} is at index {binary_search(arr, x)}\")"
   ]
  },
  {
   "cell_type": "code",
   "execution_count": 8,
   "metadata": {},
   "outputs": [
    {
     "name": "stdout",
     "output_type": "stream",
     "text": [
      "Result of matrix multiplication:\n",
      "[19, 22]\n",
      "[43, 50]\n"
     ]
    }
   ],
   "source": [
    "def matrix_multiplication(A, B):\n",
    "    result = [[sum(x*y for x, y in zip(A_row, B_col)) for B_col in zip(*B)] for A_row in A]\n",
    "    return result\n",
    "\n",
    "# Test the function\n",
    "A = [[1, 2], [3, 4]]\n",
    "B = [[5, 6], [7, 8]]\n",
    "print(\"Result of matrix multiplication:\")\n",
    "for row in matrix_multiplication(A, B):\n",
    "    print(row)\n"
   ]
  }
 ],
 "metadata": {
  "kernelspec": {
   "display_name": "base",
   "language": "python",
   "name": "python3"
  },
  "language_info": {
   "codemirror_mode": {
    "name": "ipython",
    "version": 3
   },
   "file_extension": ".py",
   "mimetype": "text/x-python",
   "name": "python",
   "nbconvert_exporter": "python",
   "pygments_lexer": "ipython3",
   "version": "3.11.5"
  }
 },
 "nbformat": 4,
 "nbformat_minor": 2
}
