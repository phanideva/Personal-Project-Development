{
 "cells": [
  {
   "cell_type": "code",
   "execution_count": 3,
   "metadata": {},
   "outputs": [
    {
     "name": "stdout",
     "output_type": "stream",
     "text": [
      "Saved: D:\\Python Practice files\\Individual pdf files for Transcripts\\Bachelor_Degree_Transcript.pdf\n",
      "Saved: D:\\Python Practice files\\Individual pdf files for Transcripts\\Bachelor_Degree_Certificate.pdf\n",
      "Saved: D:\\Python Practice files\\Individual pdf files for Transcripts\\Info.pdf\n",
      "Saved: D:\\Python Practice files\\Individual pdf files for Transcripts\\Credential_Evaluation.pdf\n"
     ]
    }
   ],
   "source": [
    "import fitz  # PyMuPDF\n",
    "import os\n",
    "\n",
    "# Define the base directory where the original PDF is located and where the new directory will be created\n",
    "base_directory = 'D:\\\\Python Practice files'\n",
    "pdf_path = os.path.join(base_directory, 'Transcripts of bachelors degree.pdf')\n",
    "\n",
    "# Create a new directory for the individual PDF files\n",
    "new_directory_name = 'Individual pdf files for Transcripts'\n",
    "new_directory_path = os.path.join(base_directory, new_directory_name)\n",
    "os.makedirs(new_directory_path, exist_ok=True)\n",
    "\n",
    "doc = fitz.open(pdf_path)\n",
    "\n",
    "output_definitions = [\n",
    "    {\"name\": \"Bachelor Degree Transcript\", \"pages\": [0]},\n",
    "    {\"name\": \"Bachelor Degree Certificate\", \"pages\": [1]},\n",
    "    {\"name\": \"Info\", \"pages\": [2]},\n",
    "    {\"name\": \"Credential Evaluation\", \"pages\": list(range(3, len(doc)))}\n",
    "]\n",
    "\n",
    "for output_def in output_definitions:\n",
    "    output_doc = fitz.open()\n",
    "    for page_num in output_def[\"pages\"]:\n",
    "        output_doc.insert_pdf(doc, from_page=page_num, to_page=page_num)\n",
    "    \n",
    "    # Adjust the output path to save in the new directory\n",
    "    output_file_name = f\"{output_def['name'].replace(' ', '_')}.pdf\"\n",
    "    output_path = os.path.join(new_directory_path, output_file_name)\n",
    "    \n",
    "    output_doc.save(output_path)\n",
    "    output_doc.close()\n",
    "\n",
    "    print(f'Saved: {output_path}')\n",
    "\n",
    "doc.close()"
   ]
  }
 ],
 "metadata": {
  "kernelspec": {
   "display_name": "base",
   "language": "python",
   "name": "python3"
  },
  "language_info": {
   "codemirror_mode": {
    "name": "ipython",
    "version": 3
   },
   "file_extension": ".py",
   "mimetype": "text/x-python",
   "name": "python",
   "nbconvert_exporter": "python",
   "pygments_lexer": "ipython3",
   "version": "3.11.5"
  }
 },
 "nbformat": 4,
 "nbformat_minor": 2
}
