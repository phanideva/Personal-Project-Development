{
 "cells": [
  {
   "cell_type": "code",
   "execution_count": 16,
   "metadata": {},
   "outputs": [],
   "source": [
    "import os\n",
    "import fitz  # PyMuPDF\n",
    "import pytesseract\n",
    "import pandas as pd"
   ]
  },
  {
   "cell_type": "code",
   "execution_count": 17,
   "metadata": {},
   "outputs": [],
   "source": [
    "def pdf_to_images(pdf_path, output_folder):\n",
    "    if not os.path.exists(output_folder):\n",
    "        os.makedirs(output_folder)\n",
    "    \n",
    "    doc = fitz.open(pdf_path)\n",
    "    image_paths = []\n",
    "    for i in range(len(doc)):\n",
    "        page = doc.load_page(i)\n",
    "        pix = page.get_pixmap()\n",
    "        image_path = os.path.join(output_folder, f'page_{i+1}.png')\n",
    "        pix.save(image_path)\n",
    "        image_paths.append(image_path)\n",
    "    return image_paths"
   ]
  },
  {
   "cell_type": "code",
   "execution_count": 18,
   "metadata": {},
   "outputs": [],
   "source": [
    "def image_to_text(image_path):\n",
    "    text = pytesseract.image_to_string(image_path)\n",
    "    return text"
   ]
  },
  {
   "cell_type": "code",
   "execution_count": 19,
   "metadata": {},
   "outputs": [],
   "source": [
    "def extract_text_from_pdf(pdf_path, output_csv):\n",
    "    output_folder = 'D:\\Python Practice files\\images'\n",
    "    image_paths = pdf_to_images(pdf_path, output_folder)\n",
    "    \n",
    "    data = []\n",
    "    for image_path in image_paths:\n",
    "        text = image_to_text(image_path)\n",
    "        document_name = os.path.basename(image_path)\n",
    "        data.append({'document_name': document_name, 'text': text})\n",
    "    \n",
    "    df = pd.DataFrame(data)\n",
    "    df.to_csv(output_csv, index=False)\n"
   ]
  },
  {
   "cell_type": "code",
   "execution_count": 20,
   "metadata": {},
   "outputs": [
    {
     "name": "stdout",
     "output_type": "stream",
     "text": [
      "Text extracted and saved to D:\\Python Practice files\\output.csv\n"
     ]
    }
   ],
   "source": [
    "\n",
    "pdf_path = 'D:\\Python Practice files\\docs\\Transcripts of bachelors degree.pdf'  # Replace with the path to your PDF file\n",
    "output_csv = 'D:\\Python Practice files\\output.csv'  # The name of the output CSV file\n",
    "\n",
    "extract_text_from_pdf(pdf_path, output_csv)\n",
    "print(f\"Text extracted and saved to {output_csv}\")"
   ]
  }
 ],
 "metadata": {
  "kernelspec": {
   "display_name": "base",
   "language": "python",
   "name": "python3"
  },
  "language_info": {
   "codemirror_mode": {
    "name": "ipython",
    "version": 3
   },
   "file_extension": ".py",
   "mimetype": "text/x-python",
   "name": "python",
   "nbconvert_exporter": "python",
   "pygments_lexer": "ipython3",
   "version": "3.11.5"
  }
 },
 "nbformat": 4,
 "nbformat_minor": 2
}
