{
 "cells": [
  {
   "cell_type": "code",
   "execution_count": 48,
   "metadata": {},
   "outputs": [],
   "source": [
    "import pandas as pd\n",
    "import re\n",
    "\n",
    "def extract_data(text):\n",
    "    # Extract four words following 'name:'\n",
    "    name_match = re.search(r'name:\\s*([^\\s]+)\\s+([^\\s]+)\\s+([^\\s]+)\\s+([^\\s]+)', text, re.IGNORECASE)\n",
    "    name = ' '.join(name_match.groups()) if name_match else ''\n",
    "    \n",
    "    # Extract date following 'printed:'\n",
    "    date_match = re.search(r'printed:\\s*([^\\s]+)', text, re.IGNORECASE)\n",
    "    printed_date = date_match.group(1) if date_match else ''\n",
    "    \n",
    "    # Extract high school GPA\n",
    "    high_school_match = re.search(r'high school:\\s*([0-9]*\\.?[0-9]+)', text, re.IGNORECASE)\n",
    "    high_school = high_school_match.group(1) if high_school_match else ''\n",
    "\n",
    "    # Extract undergraduate GPA\n",
    "    ug_match = re.search(r'undergraduate:\\s*([0-9]*\\.?[0-9]+)', text, re.IGNORECASE)\n",
    "    ug = ug_match.group(1) if ug_match else ''\n",
    "\n",
    "    # Extract graduate GPA\n",
    "    g_match = re.search(r'graduate:\\s*([0-9]*\\.?[0-9]+)', text, re.IGNORECASE)\n",
    "    g = g_match.group(1) if g_match else ''\n",
    "\n",
    "    # Extract date following 'DOB:'\n",
    "    dob_match = re.search(r'DOB:\\s*([A-Za-z]+\\s+\\d{1,2},\\s+\\d{4})', text, re.IGNORECASE)\n",
    "    dob = dob_match.group(1) if dob_match else ''\n",
    "\n",
    "    # Extract six words following 'US:'\n",
    "    b_match = re.search(r'High School Diploma U.S. Equivalence:\\s*((\\S+\\s+){5}\\S+)', text, re.IGNORECASE)\n",
    "    b_eq = b_match.group(1).strip() if b_match else ''\n",
    "\n",
    "    m_match = re.search(r'ny, U.S. Equivalence:\\s*((\\S+\\s+){5}\\S+)', text, re.IGNORECASE)\n",
    "    m_eq = m_match.group(1).strip() if m_match else ''\n",
    "\n",
    "    hs_match = re.search(r'admission requirement:\\s*((\\S+\\s+){3}\\S+)', text, re.IGNORECASE)\n",
    "    hs_eq = hs_match.group(1).strip() if hs_match else ''\n",
    "\n",
    "    return name, dob, hs_eq, high_school, b_eq, ug, m_eq, g, printed_date\n",
    "    \n",
    "def extract_data_from_pdf_text(input_csv, output_csv):\n",
    "    # Read the input CSV file\n",
    "    df = pd.read_csv(input_csv)\n",
    "    \n",
    "    # Apply the function to the 'text' column and create new columns\n",
    "    df[['Name', 'DOB', 'High school Diploma', 'High school GPA', 'Undergraduate Degree', 'Undergraduate GPA', 'Graduate Degree', 'Graduate GPA', 'Printed Date']] = df['text'].apply(lambda text: pd.Series(extract_data(text)))\n",
    "    \n",
    "    # Drop rows where all the extracted columns are empty\n",
    "    df_extracted = df.dropna(subset=['Name', 'DOB', 'High school Diploma', 'High school GPA', 'Undergraduate Degree', 'Undergraduate GPA', 'Graduate Degree', 'Graduate GPA', 'Printed Date'], how='all')\n",
    "    \n",
    "    # Keep only unique values for each column\n",
    "    unique_data = {\n",
    "        'Name': df_extracted['Name'].dropna().unique(),\n",
    "        'DOB': df_extracted['DOB'].dropna().unique(),\n",
    "        'Admission Reuirement for High school Diploma': df_extracted['High school Diploma'].dropna().unique(),\n",
    "        'High school GPA': df_extracted['High school GPA'].dropna().unique(),\n",
    "        'Undergraduate Degree': df_extracted['Undergraduate Degree'].dropna().unique(),\n",
    "        'Undergraduate GPA': df_extracted['Undergraduate GPA'].dropna().unique(),\n",
    "        'Graduate Degree': df_extracted['Graduate Degree'].dropna().unique(),\n",
    "        'Graduate GPA': df_extracted['Graduate GPA'].dropna().unique(),\n",
    "        'Printed Date': df_extracted['Printed Date'].dropna().unique()\n",
    "    }\n",
    "\n",
    "    # Create a new DataFrame with one row of unique values\n",
    "    final_data = {key: (values[1] if len(values) > 0 else '') for key, values in unique_data.items()}\n",
    "    final_df = pd.DataFrame([final_data])\n",
    "    print(final_df)\n",
    "    # Write the new DataFrame to the output CSV file\n",
    "    final_df.to_csv(output_csv, index=False)"
   ]
  },
  {
   "cell_type": "code",
   "execution_count": 49,
   "metadata": {},
   "outputs": [
    {
     "name": "stdout",
     "output_type": "stream",
     "text": [
      "                               Name            DOB  \\\n",
      "0  Phaneendra Sai Sri DEVABHAKTHUNI  July 21, 1996   \n",
      "\n",
      "  Admission Reuirement for High school Diploma High school GPA  \\\n",
      "0              completion of tenth grade-level            4.00   \n",
      "\n",
      "                               Undergraduate Degree Undergraduate GPA  \\\n",
      "0  Bachelor of Technology in Mechanical Engineering              3.37   \n",
      "\n",
      "                                 Graduate Degree Graduate GPA Printed Date  \n",
      "0  Master of Science in Mechatronics Engineering         3.37    9/13/2021  \n",
      "Extracted data saved to D:\\\\extracted_data.csv\n"
     ]
    }
   ],
   "source": [
    "input_csv = r'D:\\\\output.csv'  # The path to the input CSV file generated by the previous script\n",
    "output_csv = r'D:\\\\extracted_data.csv'  # The path to the output CSV file with extracted names\n",
    "    \n",
    "extract_data_from_pdf_text(input_csv, output_csv)\n",
    "print(f\"Extracted data saved to {output_csv}\")"
   ]
  }
 ],
 "metadata": {
  "kernelspec": {
   "display_name": "base",
   "language": "python",
   "name": "python3"
  },
  "language_info": {
   "codemirror_mode": {
    "name": "ipython",
    "version": 3
   },
   "file_extension": ".py",
   "mimetype": "text/x-python",
   "name": "python",
   "nbconvert_exporter": "python",
   "pygments_lexer": "ipython3",
   "version": "3.11.5"
  }
 },
 "nbformat": 4,
 "nbformat_minor": 2
}
