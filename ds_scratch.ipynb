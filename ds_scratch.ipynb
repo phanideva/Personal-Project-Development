{
 "cells": [
  {
   "cell_type": "markdown",
   "metadata": {},
   "source": [
    "<h1>Data Science from Scratch</h1>"
   ]
  },
  {
   "cell_type": "markdown",
   "metadata": {},
   "source": [
    "Finding Key Connectors"
   ]
  },
  {
   "cell_type": "code",
   "execution_count": 24,
   "metadata": {},
   "outputs": [],
   "source": [
    "users = [\n",
    "    {\"id\": 0, \"name\": \"Hero\"},\n",
    "    {\"id\": 1, \"name\": \"Dunn\"},\n",
    "    {\"id\": 2, \"name\": \"Sue\"},\n",
    "    {\"id\": 3, \"name\": \"Chi\"},\n",
    "    {\"id\": 4, \"name\": \"Thor\"},\n",
    "    {\"id\": 5, \"name\": \"Clive\"},\n",
    "    {\"id\": 6, \"name\": \"Hicks\"},\n",
    "    {\"id\": 7, \"name\": \"Devin\"},\n",
    "    {\"id\": 8, \"name\": \"Kate\"},\n",
    "    {\"id\": 9, \"name\": \"Klein\"}\n",
    "]\n",
    "\n",
    "friendships = [\n",
    "    (0, 1),\n",
    "    (0, 2),\n",
    "    (1, 2),\n",
    "    (1, 3),\n",
    "    (2, 3),\n",
    "    (3, 4),\n",
    "    (4, 5),\n",
    "    (5, 6),\n",
    "    (5, 7),\n",
    "    (6, 8),\n",
    "    (7, 8),\n",
    "    (8, 9)\n",
    "]"
   ]
  },
  {
   "cell_type": "code",
   "execution_count": 25,
   "metadata": {},
   "outputs": [],
   "source": [
    "for user in users:\n",
    "    user[\"friends\"] = []"
   ]
  },
  {
   "cell_type": "code",
   "execution_count": 26,
   "metadata": {},
   "outputs": [],
   "source": [
    "for i, j in friendships:\n",
    "    users[i][\"friends\"].append(users[j])\n",
    "    users[j][\"friends\"].append(users[i])"
   ]
  },
  {
   "cell_type": "code",
   "execution_count": 27,
   "metadata": {},
   "outputs": [
    {
     "name": "stdout",
     "output_type": "stream",
     "text": [
      "Total connections:  24\n"
     ]
    }
   ],
   "source": [
    "def number_of_friends(user):\n",
    "    return len(user[\"friends\"])\n",
    "\n",
    "total_connections  = sum(number_of_friends(user) for user in users)\n",
    "print(\"Total connections: \", total_connections)"
   ]
  },
  {
   "cell_type": "code",
   "execution_count": 28,
   "metadata": {},
   "outputs": [
    {
     "name": "stdout",
     "output_type": "stream",
     "text": [
      "Average connections:  2.4\n"
     ]
    }
   ],
   "source": [
    "from __future__ import division\n",
    "\n",
    "num_users = len(users)\n",
    "avg_connections = total_connections / num_users\n",
    "print(\"Average connections: \", avg_connections)"
   ]
  },
  {
   "cell_type": "code",
   "execution_count": 29,
   "metadata": {},
   "outputs": [
    {
     "data": {
      "text/plain": [
       "[(1, 3),\n",
       " (2, 3),\n",
       " (3, 3),\n",
       " (5, 3),\n",
       " (8, 3),\n",
       " (0, 2),\n",
       " (4, 2),\n",
       " (6, 2),\n",
       " (7, 2),\n",
       " (9, 1)]"
      ]
     },
     "execution_count": 29,
     "metadata": {},
     "output_type": "execute_result"
    }
   ],
   "source": [
    "num_friends_by_id = [(user[\"id\"], number_of_friends(user)) for user in users]\n",
    "\n",
    "sorted(num_friends_by_id, key=lambda user_id_number_of_friends: user_id_number_of_friends[1], reverse=True)\n",
    "\n",
    "#sorted(num_friends_by_id, key=lambda(user_id, number_of_friends): number_of_friends, reverse=True)"
   ]
  },
  {
   "cell_type": "markdown",
   "metadata": {},
   "source": [
    "Example: Data Scientists you may know"
   ]
  },
  {
   "cell_type": "code",
   "execution_count": 30,
   "metadata": {},
   "outputs": [],
   "source": [
    "def friends_of_friend_ids_bad(user):\n",
    "  # \"foaf\" is short for \"friend of a friend\"\n",
    "  return [foaf[\"id\"]\n",
    "          for friend in user[\"friends\"]\n",
    "          for foaf in friend[\"friends\"]]"
   ]
  },
  {
   "cell_type": "code",
   "execution_count": 31,
   "metadata": {},
   "outputs": [
    {
     "name": "stdout",
     "output_type": "stream",
     "text": [
      "Counter({0: 2, 5: 1})\n"
     ]
    }
   ],
   "source": [
    "from collections import Counter\n",
    "\n",
    "def not_the_same(user, other_user):\n",
    "    \"\"\"two users are not the same if they have different ids\"\"\"\n",
    "    return user[\"id\"] != other_user[\"id\"]\n",
    "\n",
    "def not_friends(user, other_user):\n",
    "    \"\"\"other_user is not a friend if he's not in user[\"friends\"];\n",
    "       that is, if he's not_the_same as all the people in user[\"friends\"]\"\"\"\n",
    "    return all(not_the_same(friend, other_user) for friend in user[\"friends\"])\n",
    "\n",
    "def friends_of_friend_ids(user):\n",
    "\n",
    "  return Counter(foaf[\"id\"]\n",
    "          for friend in user[\"friends\"]\n",
    "          for foaf in friend[\"friends\"]\n",
    "          if not_the_same(user, foaf)\n",
    "          and not_friends(user, foaf))\n",
    "\n",
    "print(friends_of_friend_ids(users[3]))"
   ]
  },
  {
   "cell_type": "code",
   "execution_count": 36,
   "metadata": {},
   "outputs": [
    {
     "name": "stdout",
     "output_type": "stream",
     "text": [
      "Counter({0: 1})\n"
     ]
    }
   ],
   "source": [
    "# interests\n",
    "interests = [(0, \"Hadoop\"), (0, \"Big Data\"),\n",
    "             (1, \"Java\"), (1, \"Spark\"),\n",
    "             (2, \"Python\"), (2, \"Big Data\")]\n",
    "\n",
    "from collections import defaultdict\n",
    "\n",
    "# keys are interests, values are lists of user_ids with that interest\n",
    "user_ids_by_interest = defaultdict(list)\n",
    "\n",
    "for user_id, interest in interests:\n",
    "  user_ids_by_interest[interest].append(user_id)\n",
    "\n",
    "# keys are user_ids, values are lists of interests for that user_id\n",
    "interests_by_user_id = defaultdict(list)\n",
    "\n",
    "for user_id, interest in interests:\n",
    "  interests_by_user_id[user_id].append(interest)\n",
    "\n",
    "def most_common_interest_with(user):\n",
    "  return Counter(interested_user_id \n",
    "                 for interest in interests_by_user_id[user[\"id\"]]\n",
    "                 for interested_user_id in user_ids_by_interest[interest] if interested_user_id != user[\"id\"]\n",
    "                 )\n",
    "print(most_common_interest_with(users[2]))"
   ]
  },
  {
   "cell_type": "markdown",
   "metadata": {},
   "source": [
    "Salaries and Experience"
   ]
  },
  {
   "cell_type": "code",
   "execution_count": 1,
   "metadata": {},
   "outputs": [],
   "source": [
    "salaries_and_tenures = [(83000, 8.7), (88000, 8.1),\n",
    "                        (48000, 0.7), (76000, 6),\n",
    "                        (69000, 6.5), (76000, 7.5),\n",
    "                        (60000, 2.5), (83000, 10),\n",
    "                        (48000, 1.9), (63000, 4.2)]"
   ]
  },
  {
   "cell_type": "code",
   "execution_count": 4,
   "metadata": {},
   "outputs": [
    {
     "name": "stdout",
     "output_type": "stream",
     "text": [
      "{8.7: 83000.0, 8.1: 88000.0, 0.7: 48000.0, 6: 76000.0, 6.5: 69000.0, 7.5: 76000.0, 2.5: 60000.0, 10: 83000.0, 1.9: 48000.0, 4.2: 63000.0}\n"
     ]
    }
   ],
   "source": [
    "from collections import defaultdict\n",
    "# keys are years, values are lists of the salaries for each tenure\n",
    "salaries_by_tenure = defaultdict(list)\n",
    "\n",
    "for salary, tenure in salaries_and_tenures:\n",
    "  salaries_by_tenure[tenure].append(salary)\n",
    "\n",
    "# keys are years, each value is average salary for that tenure\n",
    "average_salary_by_tenure = {\n",
    "  tenure: sum(salaries) / len(salaries)\n",
    "  for tenure, salaries in salaries_by_tenure.items()\n",
    "}\n",
    "\n",
    "print(average_salary_by_tenure)"
   ]
  },
  {
   "cell_type": "code",
   "execution_count": 5,
   "metadata": {},
   "outputs": [],
   "source": [
    "def tenure_bucket(tenure):\n",
    "  if tenure < 2:\n",
    "    return \"less than two\"\n",
    "  elif tenure < 5:\n",
    "    return \"between two and five\"\n",
    "  else:\n",
    "    return \"more than five\""
   ]
  },
  {
   "cell_type": "code",
   "execution_count": 6,
   "metadata": {},
   "outputs": [],
   "source": [
    "# keys are tenure buckets, values are lists of salaries for that bucket\n",
    "salaries_by_tenure_bucket = defaultdict(list)\n",
    "\n",
    "for salary, tenure in salaries_and_tenures:\n",
    "  bucket = tenure_bucket(tenure)\n",
    "  salaries_by_tenure_bucket[bucket].append(salary)"
   ]
  },
  {
   "cell_type": "code",
   "execution_count": 8,
   "metadata": {},
   "outputs": [
    {
     "name": "stdout",
     "output_type": "stream",
     "text": [
      "{'more than five': 79166.66666666667, 'less than two': 48000.0, 'between two and five': 61500.0}\n"
     ]
    }
   ],
   "source": [
    "# keys are tenure buckets, values are average salary for that bucket\n",
    "average_salary_by_tenure_bucket = {\n",
    "  tenure_bucket: sum(salaries) / len(salaries)\n",
    "  for tenure_bucket, salaries in salaries_by_tenure_bucket.items()\n",
    "}\n",
    "\n",
    "print(average_salary_by_tenure_bucket)"
   ]
  },
  {
   "cell_type": "markdown",
   "metadata": {},
   "source": [
    "Paid Accounts"
   ]
  },
  {
   "cell_type": "code",
   "execution_count": 10,
   "metadata": {},
   "outputs": [
    {
     "name": "stdout",
     "output_type": "stream",
     "text": [
      "{1: 'paid', 2.5: 'paid', 3: 'unpaid', 4.5: 'unpaid', 7: 'unpaid', 8.5: 'paid', 9: 'paid', 12: 'paid'}\n"
     ]
    }
   ],
   "source": [
    "def predict_paid_or_unpaid(years_experience):\n",
    "  if years_experience < 3.0:\n",
    "    return \"paid\"\n",
    "  elif years_experience < 8.5:\n",
    "    return \"unpaid\"\n",
    "  else:\n",
    "    return \"paid\"\n",
    "\n",
    "# Sample dataset of years of experience\n",
    "years_of_experience = [1, 2.5, 3, 4.5, 7, 8.5, 9, 12]\n",
    "\n",
    "# Apply the function to each years of experience in the dataset and print the result\n",
    "results = {years: predict_paid_or_unpaid(years) for years in years_of_experience}\n",
    "print(results)"
   ]
  },
  {
   "cell_type": "markdown",
   "metadata": {},
   "source": [
    "Topics of Interest"
   ]
  },
  {
   "cell_type": "code",
   "execution_count": 14,
   "metadata": {},
   "outputs": [
    {
     "name": "stdout",
     "output_type": "stream",
     "text": [
      "nosql 2\n",
      "learning 2\n",
      "python 2\n",
      "programming 2\n"
     ]
    }
   ],
   "source": [
    "from collections import Counter\n",
    "\n",
    "interests = [\n",
    "    (1, \"NoSQL\"),\n",
    "    (1, \"MongoDB\"),\n",
    "    (2, \"Machine Learning\"),\n",
    "    (2, \"Deep Learning\"),\n",
    "    (3, \"Python Programming\"),\n",
    "    (3, \"Data Science\"),\n",
    "    (4, \"NoSQL\"),\n",
    "    (5, \"Python Programming\"),\n",
    "]\n",
    "\n",
    "words_and_counts = Counter(word for user, interest in interests\n",
    "                                for word in interest.lower().split())\n",
    "\n",
    "for word, count in words_and_counts.most_common(10):\n",
    "  if count > 1:\n",
    "    print(word, count)"
   ]
  },
  {
   "cell_type": "markdown",
   "metadata": {},
   "source": [
    "<h1>A Crash Course in Python</h1>"
   ]
  },
  {
   "cell_type": "markdown",
   "metadata": {},
   "source": [
    "Modules"
   ]
  },
  {
   "cell_type": "code",
   "execution_count": 17,
   "metadata": {},
   "outputs": [
    {
     "name": "stdout",
     "output_type": "stream",
     "text": [
      "re.compile('[0-9]+', re.IGNORECASE)\n"
     ]
    }
   ],
   "source": [
    "import re\n",
    "my_regex = re.compile(\"[0-9]+\", re.I)\n",
    "print(my_regex)"
   ]
  },
  {
   "cell_type": "code",
   "execution_count": 19,
   "metadata": {},
   "outputs": [
    {
     "name": "stdout",
     "output_type": "stream",
     "text": [
      "defaultdict(<class 'int'>, {})\n",
      "Counter()\n"
     ]
    }
   ],
   "source": [
    "from collections import defaultdict, Counter\n",
    "lookup = defaultdict(int)\n",
    "print(lookup)\n",
    "my_counter = Counter()\n",
    "print(my_counter)"
   ]
  },
  {
   "cell_type": "markdown",
   "metadata": {},
   "source": [
    "Arithmetic"
   ]
  },
  {
   "cell_type": "code",
   "execution_count": 25,
   "metadata": {},
   "outputs": [
    {
     "name": "stdout",
     "output_type": "stream",
     "text": [
      "2.5\n"
     ]
    }
   ],
   "source": [
    "from __future__ import division\n",
    "\n",
    "result = 5 / 2\n",
    "print(result)"
   ]
  },
  {
   "cell_type": "code",
   "execution_count": 23,
   "metadata": {},
   "outputs": [
    {
     "name": "stdout",
     "output_type": "stream",
     "text": [
      "2\n"
     ]
    }
   ],
   "source": [
    "answer = 5 // 2\n",
    "print(answer)"
   ]
  },
  {
   "cell_type": "markdown",
   "metadata": {},
   "source": [
    "Functions"
   ]
  },
  {
   "cell_type": "code",
   "execution_count": 26,
   "metadata": {},
   "outputs": [
    {
     "name": "stdout",
     "output_type": "stream",
     "text": [
      "10\n"
     ]
    }
   ],
   "source": [
    "def double(x):\n",
    "  \"\"\"docstring\"\"\"\n",
    "  return x * 2\n",
    "\n",
    "print(double(5))"
   ]
  },
  {
   "cell_type": "code",
   "execution_count": 29,
   "metadata": {},
   "outputs": [
    {
     "name": "stdout",
     "output_type": "stream",
     "text": [
      "2\n",
      "5\n"
     ]
    }
   ],
   "source": [
    "def apply_to_one(f):\n",
    "  return f(1)\n",
    "\n",
    "my_double = double\n",
    "x = apply_to_one(my_double)\n",
    "print(x)\n",
    "\n",
    "y = apply_to_one(lambda x: x + 4)\n",
    "print(y)"
   ]
  },
  {
   "cell_type": "code",
   "execution_count": 31,
   "metadata": {},
   "outputs": [
    {
     "name": "stdout",
     "output_type": "stream",
     "text": [
      "10\n"
     ]
    }
   ],
   "source": [
    "# another_double = lambda x: 2 * x  #don't do this\n",
    "\n",
    "def another_double(x): return 2 * x\n",
    "\n",
    "print(another_double(5))"
   ]
  },
  {
   "cell_type": "code",
   "execution_count": 33,
   "metadata": {},
   "outputs": [
    {
     "name": "stdout",
     "output_type": "stream",
     "text": [
      "hello\n",
      "my default message\n"
     ]
    }
   ],
   "source": [
    "def my_print(message = \"my default message\"):\n",
    "  print(message)\n",
    "\n",
    "my_print(\"hello\")\n",
    "my_print()"
   ]
  },
  {
   "cell_type": "code",
   "execution_count": 39,
   "metadata": {},
   "outputs": [
    {
     "data": {
      "text/plain": [
       "-5"
      ]
     },
     "execution_count": 39,
     "metadata": {},
     "output_type": "execute_result"
    }
   ],
   "source": [
    "def subtract(a = 0, b = 0):\n",
    "  return a - b\n",
    "\n",
    "#subtract(10, 5)\n",
    "subtract(0, 5)\n",
    "#subtract(b = 5)"
   ]
  }
 ],
 "metadata": {
  "kernelspec": {
   "display_name": "base",
   "language": "python",
   "name": "python3"
  },
  "language_info": {
   "codemirror_mode": {
    "name": "ipython",
    "version": 3
   },
   "file_extension": ".py",
   "mimetype": "text/x-python",
   "name": "python",
   "nbconvert_exporter": "python",
   "pygments_lexer": "ipython3",
   "version": "3.11.5"
  }
 },
 "nbformat": 4,
 "nbformat_minor": 2
}
